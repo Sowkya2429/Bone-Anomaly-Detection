{
 "cells": [
  {
   "cell_type": "code",
   "execution_count": 2,
   "metadata": {},
   "outputs": [],
   "source": [
    "\n",
    "import os\n",
    "import pandas as pd\n",
    "# Base directory for the dataset\n",
    "BASE_DIR = \"D:\\\\Downloads\\\\MURA-v1.1\\\\MURA-v1.1\"\n",
    "df = pd.read_csv(os.path.join(BASE_DIR, \"train_image_labeled.csv\"))"
   ]
  },
  {
   "cell_type": "code",
   "execution_count": 4,
   "metadata": {},
   "outputs": [
    {
     "data": {
      "text/plain": [
       "class_name\n",
       "XR_WRIST negative       5765\n",
       "XR_SHOULDER negative    4211\n",
       "XR_SHOULDER positive    4168\n",
       "XR_HAND negative        4059\n",
       "XR_WRIST positive       3987\n",
       "XR_FINGER negative      3138\n",
       "XR_ELBOW negative       2925\n",
       "XR_ELBOW positive       2006\n",
       "XR_FINGER positive      1968\n",
       "XR_HAND positive        1484\n",
       "XR_FOREARM negative     1164\n",
       "XR_HUMERUS negative      673\n",
       "XR_FOREARM positive      661\n",
       "XR_HUMERUS positive      599\n",
       "Name: count, dtype: int64"
      ]
     },
     "execution_count": 4,
     "metadata": {},
     "output_type": "execute_result"
    }
   ],
   "source": [
    "df.class_name.value_counts()"
   ]
  },
  {
   "cell_type": "code",
   "execution_count": null,
   "metadata": {},
   "outputs": [],
   "source": []
  }
 ],
 "metadata": {
  "kernelspec": {
   "display_name": "Python 3",
   "language": "python",
   "name": "python3"
  },
  "language_info": {
   "codemirror_mode": {
    "name": "ipython",
    "version": 3
   },
   "file_extension": ".py",
   "mimetype": "text/x-python",
   "name": "python",
   "nbconvert_exporter": "python",
   "pygments_lexer": "ipython3",
   "version": "3.10.14"
  }
 },
 "nbformat": 4,
 "nbformat_minor": 2
}
